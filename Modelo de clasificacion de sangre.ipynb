{
 "cells": [
  {
   "cell_type": "code",
   "execution_count": 18,
   "metadata": {},
   "outputs": [],
   "source": [
    "import numpy as np\n",
    "import pandas as pd\n",
    "from sklearn.model_selection import train_test_split\n",
    "from sklearn.metrics import classification_report, accuracy_score\n",
    "from sklearn.ensemble import RandomForestClassifier\n",
    "from sklearn.multioutput import MultiOutputClassifier"
   ]
  },
  {
   "cell_type": "code",
   "execution_count": 19,
   "metadata": {},
   "outputs": [],
   "source": [
    "# Importamos data cruda\n",
    "data_recepcion = pd.read_csv('recepcion.csv')\n",
    "data_donacion = pd.read_csv('donacion.csv')\n",
    "\n",
    "# Concatenamos los datasets\n",
    "X_recepcion = data_recepcion.iloc[:,:8]\n",
    "y_recepcion = data_recepcion.iloc[:,8:]\n",
    "\n",
    "X_donacion = data_donacion.iloc[:,:8]\n",
    "y_donacion = data_donacion.iloc[:,8:]\n",
    "\n",
    "# Dividimos en train y test\n",
    "X_train_recepcion, X_test_recepcion, y_train_recepcion, y_test_recepcion = train_test_split(X_recepcion, y_recepcion, test_size=0.2, random_state=24)\n",
    "X_train_donacion, X_test_donacion, y_train_donacion, y_test_donacion = train_test_split(X_donacion,y_donacion, test_size=0.2, random_state=24)"
   ]
  },
  {
   "cell_type": "code",
   "execution_count": 20,
   "metadata": {},
   "outputs": [
    {
     "data": {
      "text/plain": [
       "(array([[1, 1, 1, ..., 1, 1, 1],\n",
       "        [1, 0, 0, ..., 0, 0, 0],\n",
       "        [1, 0, 1, ..., 0, 1, 0],\n",
       "        ...,\n",
       "        [1, 1, 0, ..., 1, 0, 0],\n",
       "        [1, 0, 0, ..., 0, 0, 0],\n",
       "        [1, 1, 1, ..., 1, 1, 1]], dtype=int64),\n",
       " array([[0, 0, 0, ..., 0, 1, 1],\n",
       "        [0, 0, 0, ..., 0, 0, 1],\n",
       "        [0, 0, 0, ..., 0, 0, 1],\n",
       "        ...,\n",
       "        [0, 1, 0, ..., 1, 0, 1],\n",
       "        [1, 1, 1, ..., 1, 1, 1],\n",
       "        [1, 1, 1, ..., 1, 1, 1]], dtype=int64))"
      ]
     },
     "execution_count": 20,
     "metadata": {},
     "output_type": "execute_result"
    }
   ],
   "source": [
    "# Definimos el modelo\n",
    "bosque = RandomForestClassifier()\n",
    "\n",
    "# Entrenamos el modelo\n",
    "modelo_recepcion = MultiOutputClassifier(bosque, n_jobs=-1)\n",
    "modelo_recepcion.fit(X_train_recepcion, y_train_recepcion)\n",
    "\n",
    "modelo_donacion = MultiOutputClassifier(bosque, n_jobs=-1)\n",
    "modelo_donacion.fit(X_train_donacion, y_train_donacion)\n",
    "\n",
    "# Prediciones\n",
    "y_pred_recepcion = modelo_recepcion.predict(X_test_recepcion)\n",
    "y_pred_donacion = modelo_donacion.predict(X_test_donacion)\n",
    "\n",
    "y_pred_recepcion, y_pred_donacion\n"
   ]
  },
  {
   "cell_type": "code",
   "execution_count": 21,
   "metadata": {},
   "outputs": [
    {
     "name": "stdout",
     "output_type": "stream",
     "text": [
      "              precision    recall  f1-score   support\n",
      "\n",
      "           0       1.00      1.00      1.00     10000\n",
      "           1       1.00      1.00      1.00      5033\n",
      "           2       1.00      1.00      1.00      4958\n",
      "           3       1.00      1.00      1.00      2494\n",
      "           4       1.00      1.00      1.00      4923\n",
      "           5       1.00      1.00      1.00      2473\n",
      "           6       1.00      1.00      1.00      2454\n",
      "           7       1.00      1.00      1.00      1228\n",
      "\n",
      "   micro avg       1.00      1.00      1.00     33563\n",
      "   macro avg       1.00      1.00      1.00     33563\n",
      "weighted avg       1.00      1.00      1.00     33563\n",
      " samples avg       1.00      1.00      1.00     33563\n",
      "               precision    recall  f1-score   support\n",
      "\n",
      "           0       1.00      1.00      1.00      1265\n",
      "           1       1.00      1.00      1.00      2511\n",
      "           2       1.00      1.00      1.00      2535\n",
      "           3       1.00      1.00      1.00      5076\n",
      "           4       1.00      1.00      1.00      2502\n",
      "           5       1.00      1.00      1.00      4932\n",
      "           6       1.00      1.00      1.00      5045\n",
      "           7       1.00      1.00      1.00     10000\n",
      "\n",
      "   micro avg       1.00      1.00      1.00     33866\n",
      "   macro avg       1.00      1.00      1.00     33866\n",
      "weighted avg       1.00      1.00      1.00     33866\n",
      " samples avg       1.00      1.00      1.00     33866\n",
      "\n"
     ]
    }
   ],
   "source": [
    "#verificamos precision\n",
    "print(classification_report(y_test_recepcion, y_pred_recepcion), classification_report(y_test_donacion, y_pred_donacion))"
   ]
  },
  {
   "cell_type": "code",
   "execution_count": 22,
   "metadata": {},
   "outputs": [
    {
     "name": "stdout",
     "output_type": "stream",
     "text": [
      "1.0 1.0\n"
     ]
    }
   ],
   "source": [
    "print(accuracy_score(y_test_recepcion, y_pred_recepcion), accuracy_score(y_test_recepcion, y_pred_recepcion))"
   ]
  },
  {
   "cell_type": "code",
   "execution_count": 23,
   "metadata": {},
   "outputs": [
    {
     "data": {
      "text/plain": [
       "['modelo_donacion.pkl']"
      ]
     },
     "execution_count": 23,
     "metadata": {},
     "output_type": "execute_result"
    }
   ],
   "source": [
    "import joblib\n",
    "\n",
    "# Exportar el modelo entrenado\n",
    "joblib.dump(modelo_recepcion, 'modelo_recepcion.pkl')\n",
    "joblib.dump(modelo_donacion, 'modelo_donacion.pkl')"
   ]
  }
 ],
 "metadata": {
  "kernelspec": {
   "display_name": "Python 3",
   "language": "python",
   "name": "python3"
  },
  "language_info": {
   "codemirror_mode": {
    "name": "ipython",
    "version": 3
   },
   "file_extension": ".py",
   "mimetype": "text/x-python",
   "name": "python",
   "nbconvert_exporter": "python",
   "pygments_lexer": "ipython3",
   "version": "3.11.8"
  }
 },
 "nbformat": 4,
 "nbformat_minor": 2
}
